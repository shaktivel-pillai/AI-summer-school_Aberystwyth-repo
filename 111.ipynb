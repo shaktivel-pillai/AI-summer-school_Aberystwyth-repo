{
 "cells": [
  {
   "cell_type": "code",
   "execution_count": 1,
   "id": "f638f4c6-7004-4ae2-8cab-86dbda105bf5",
   "metadata": {},
   "outputs": [],
   "source": [
    "import matplotlib.pyplot as plt\n",
    "from scipy.io import readsav"
   ]
  },
  {
   "cell_type": "code",
   "execution_count": 3,
   "id": "82bd9962-7dd3-4335-8916-1be1641b8122",
   "metadata": {},
   "outputs": [
    {
     "name": "stdout",
     "output_type": "stream",
     "text": [
      "dict_keys(['d', 'maskmaster', 'brtmaster'])\n"
     ]
    }
   ],
   "source": [
    "f = readsav(r'C:\\Users\\shp40\\Downloads\\iris_l2_20141218_121733_3800007153_SJI_1330_t000_filt_bp.dat')\n",
    "print(f.keys())"
   ]
  },
  {
   "cell_type": "code",
   "execution_count": 6,
   "id": "5a55f889-d010-4108-8591-61fdd44888f0",
   "metadata": {},
   "outputs": [],
   "source": [
    "a=f['d']"
   ]
  },
  {
   "cell_type": "code",
   "execution_count": 7,
   "id": "da734164-8ec6-4946-abea-49142fab8cfb",
   "metadata": {},
   "outputs": [
    {
     "data": {
      "text/plain": [
       "np.record((3.5242615, 346.17886, 8.66624, 69, 7, 1.0, 1.0303363, array([202.32477, 202.49931, 202.57516, 202.80615, 203.45222, 203.92706,\n",
       "       203.64053], dtype='>f4'), array([40.700626, 38.602562, 38.017662, 36.737602, 35.536808, 35.310394,\n",
       "       35.101566], dtype='>f4'), array([0, 1, 2, 3, 4, 5, 6], dtype='>i4'), array([47.31384 , 42.21572 , 38.90555 , 44.52572 , 72.3522  , 47.233997,\n",
       "       53.631863], dtype='>f4'), array([10.,  9., 11., 13., 16., 16., 14.], dtype='>f4'), array([0.21929316, 0.81821525, 0.7997657 , 0.56692183, 0.78324366,\n",
       "       0.61022234, 0.59849036], dtype='>f4'), array([0.99835044, 0.42609504, 0.5183579 , 0.8510742 , 0.85077584,\n",
       "       1.043548  , 0.60789996], dtype='>f4'), array([ 0.11982495,  0.2747935 ,  0.11536999, -0.25213036,  0.13217998,\n",
       "       -0.04457184,  0.18637162], dtype='>f4')), dtype=[(('bg', 'BG'), '>f4'), (('totb', 'TOTB'), '>f4'), (('maxb', 'MAXB'), '>f4'), (('nvox', 'NVOX'), '>i4'), (('nt', 'NT'), '>i4'), (('nfrag', 'NFRAG'), '>f4'), (('speed', 'SPEED'), '>f4'), (('xpos', 'XPOS'), 'O'), (('ypos', 'YPOS'), 'O'), (('tpos', 'TPOS'), 'O'), (('brt', 'BRT'), 'O'), (('area', 'AREA'), 'O'), (('a', 'A'), 'O'), (('b', 'B'), 'O'), (('c', 'C'), 'O')])"
      ]
     },
     "execution_count": 7,
     "metadata": {},
     "output_type": "execute_result"
    }
   ],
   "source": [
    "a[0]"
   ]
  },
  {
   "cell_type": "code",
   "execution_count": 8,
   "id": "5e643686-1bcd-4dae-bb60-42dcf5cd40bf",
   "metadata": {},
   "outputs": [
    {
     "name": "stdout",
     "output_type": "stream",
     "text": [
      "<class 'numpy.rec.recarray'>\n"
     ]
    }
   ],
   "source": [
    "\n",
    "print(type(f['d']))\n"
   ]
  },
  {
   "cell_type": "code",
   "execution_count": 10,
   "id": "954b966c-20a5-433d-b31b-5d6defe1efcf",
   "metadata": {},
   "outputs": [
    {
     "name": "stdout",
     "output_type": "stream",
     "text": [
      "(3835,)\n"
     ]
    }
   ],
   "source": [
    "print(f['d'].shape)"
   ]
  },
  {
   "cell_type": "code",
   "execution_count": 11,
   "id": "ecf3a8b5-3451-45f3-ba18-dc260971dcef",
   "metadata": {},
   "outputs": [
    {
     "data": {
      "text/plain": [
       "dtype((numpy.record, [(('bg', 'BG'), '>f4'), (('totb', 'TOTB'), '>f4'), (('maxb', 'MAXB'), '>f4'), (('nvox', 'NVOX'), '>i4'), (('nt', 'NT'), '>i4'), (('nfrag', 'NFRAG'), '>f4'), (('speed', 'SPEED'), '>f4'), (('xpos', 'XPOS'), 'O'), (('ypos', 'YPOS'), 'O'), (('tpos', 'TPOS'), 'O'), (('brt', 'BRT'), 'O'), (('area', 'AREA'), 'O'), (('a', 'A'), 'O'), (('b', 'B'), 'O'), (('c', 'C'), 'O')]))"
      ]
     },
     "execution_count": 11,
     "metadata": {},
     "output_type": "execute_result"
    }
   ],
   "source": [
    "f['d'].dtype"
   ]
  },
  {
   "cell_type": "code",
   "execution_count": 13,
   "id": "c98cd61c-9bd7-42d7-a08c-80e4f9207273",
   "metadata": {},
   "outputs": [
    {
     "data": {
      "text/plain": [
       "3835"
      ]
     },
     "execution_count": 13,
     "metadata": {},
     "output_type": "execute_result"
    }
   ],
   "source": [
    "len(f['d'])"
   ]
  },
  {
   "cell_type": "code",
   "execution_count": null,
   "id": "cad2f26b-6894-4678-8aa1-f9066fb5e7b5",
   "metadata": {},
   "outputs": [],
   "source": []
  }
 ],
 "metadata": {
  "kernelspec": {
   "display_name": "Python 3 (ipykernel)",
   "language": "python",
   "name": "python3"
  },
  "language_info": {
   "codemirror_mode": {
    "name": "ipython",
    "version": 3
   },
   "file_extension": ".py",
   "mimetype": "text/x-python",
   "name": "python",
   "nbconvert_exporter": "python",
   "pygments_lexer": "ipython3",
   "version": "3.13.5"
  }
 },
 "nbformat": 4,
 "nbformat_minor": 5
}
